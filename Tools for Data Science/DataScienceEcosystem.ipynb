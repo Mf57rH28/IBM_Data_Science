{
  "metadata": {
    "kernelspec": {
      "name": "python",
      "display_name": "Python (Pyodide)",
      "language": "python"
    },
    "language_info": {
      "codemirror_mode": {
        "name": "ipython",
        "version": 3
      },
      "file_extension": ".py",
      "mimetype": "text/x-python",
      "name": "python",
      "nbconvert_exporter": "python",
      "pygments_lexer": "ipython3",
      "version": "3.7.12"
    }
  },
  "nbformat_minor": 5,
  "nbformat": 4,
  "cells": [
    {
      "cell_type": "markdown",
      "source": "<h1>Data Science Tools and Ecosystem</h1>",
      "metadata": {},
      "id": "c0b7dd50-bacf-4dc0-98a1-6785b57fb181"
    },
    {
      "cell_type": "markdown",
      "source": "<p>In this notebook, Data Science Tools and Ecosystem are summarized.<p>",
      "metadata": {},
      "id": "728d9b1f-1d0b-4eb3-996a-4453c25444b4"
    },
    {
      "cell_type": "markdown",
      "source": "Some of the popular languages that Data Scientists use are:\n<ol>\n    <li>Python.</li>\n    <li>R.</li>\n    <li>SQL.</li>\n    <li>Java.</li>\n    <li>Julia.</li>\n    <li>Scala.</li>\n    <li>C/C++.</li>\n    <li>JavaScript.</li>\n</ol>\n",
      "metadata": {},
      "id": "3c957deb-56d8-43b4-9ab9-7f5efea83c17"
    },
    {
      "cell_type": "markdown",
      "source": "Some of the commonly used libraries used by Data Scientists include:\n<ol>\n    <li>TensorFlow.</li>\n    <li>NumPy.</li>\n    <li>SciPy.</li>\n    <li>Pandas.</li>\n    <li>Matplotlib.</li>\n    <li>Keras.</li>\n    <li>SciKit-Learn.</li>\n    <li>PyTorch.</li>\n    <li>Scrapy.</li>\n    <li>BeautifulSoup.</li>\n    <li>LightGBM.</li>\n    <li>ELI5.</li>\n    <li>Theano.</li>\n    <li>NuPIC.</li>\n    <li>Ramp.</li>\n    <li>Pipenv.</li>\n    <li>Bob.</li>\n    <li>PyBrain.</li>\n    <li>Caffe2.</li>\n    <li>Chainer.</li>\n</ol>",
      "metadata": {},
      "id": "5c211684-5f77-4c28-bd23-590a3ab0b368"
    },
    {
      "cell_type": "markdown",
      "source": "Data Science Tools:\n\n<table style=\"width:100%\">\n  <tr>\n    <th>Data Science Tools</th>\n    <th></th>\n    <th></th>\n  </tr>\n  <tr>\n    <td>SAS. It is one of those data science tools which are specifically designed for statistical operation</td>\n    <td></td>\n    <td></td>\n  </tr>\n  <tr>\n    <td>Apache Spark</td>\n    <td></td>\n    <td></td>\n  </tr>\n  <tr>\n    <td>BigML</td>\n    <td></td>\n    <td></td>\n  </tr>\n  <tr>\n    <td>TensorFlow</td>\n    <td></td>\n    <td></td>\n  </tr>\n</table>",
      "metadata": {},
      "id": "34f750eb-46e1-46e8-b8a1-45bf703d5cdb"
    },
    {
      "cell_type": "markdown",
      "source": "<h3>Below are a few examples of evaluating arithmetic expressions in Python</h3>",
      "metadata": {},
      "id": "05ff289f-d200-40f5-817a-f2d1d65e3474"
    },
    {
      "cell_type": "code",
      "source": "# This a simple arithmetic expression to mutiply then add integers\n(3*4)+5",
      "metadata": {
        "trusted": true
      },
      "execution_count": 4,
      "outputs": [
        {
          "execution_count": 4,
          "output_type": "execute_result",
          "data": {
            "text/plain": "17"
          },
          "metadata": {}
        }
      ],
      "id": "fd1b5788-e07e-4e81-8ec2-46119970e0a6"
    },
    {
      "cell_type": "code",
      "source": "min = 200\n# This will convert 200 minutes to hours by diving by 60\nprint(f\"200 minutes = {min/60:.2f} hours\")",
      "metadata": {},
      "execution_count": 10,
      "outputs": [
        {
          "name": "stdout",
          "output_type": "stream",
          "text": "200 minutes = 3.33 hours\n"
        }
      ],
      "id": "219ce71c-2603-4b89-b2a9-683314f8db54"
    },
    {
      "cell_type": "markdown",
      "source": "**Objectives:**\n- List popular languages for Data Science\n- List popular libraries for Data Science\n- List of Well known Data Science Tools\n- How to Provide comments in the cell\n- To learn open source, commercial and cloud-based ddevelopment tools used by data scientists.",
      "metadata": {},
      "id": "ee7689e5-3e74-4e4f-a818-16e11fac1188"
    },
    {
      "cell_type": "markdown",
      "source": "<h2>Author:</h2> Mufarreh Alshehri",
      "metadata": {},
      "id": "ee566760-e4a1-4439-baf6-5e54e551929f"
    }
  ]
}